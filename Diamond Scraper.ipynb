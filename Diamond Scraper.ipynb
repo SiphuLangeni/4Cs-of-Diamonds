{
 "cells": [
  {
   "cell_type": "markdown",
   "metadata": {},
   "source": [
    "# Import packages"
   ]
  },
  {
   "cell_type": "code",
   "execution_count": null,
   "metadata": {},
   "outputs": [],
   "source": [
    "df = pd.read_csv('diamonds.csv')"
   ]
  },
  {
   "cell_type": "code",
   "execution_count": null,
   "metadata": {},
   "outputs": [],
   "source": [
    "url = 'https://www.brilliantearth.com/loose-diamonds/list/?shapes=Round&min_carat=0.5&max_carat=0.5&page=1'"
   ]
  },
  {
   "cell_type": "code",
   "execution_count": null,
   "metadata": {},
   "outputs": [],
   "source": [
    "response = requests.get(url).json()"
   ]
  },
  {
   "cell_type": "code",
   "execution_count": null,
   "metadata": {},
   "outputs": [],
   "source": [
    "print(f'total_count: {response[\"total_count\"]}')\n",
    "print(f'page: {response[\"page\"]}')\n",
    "print(f'num_records: {len(response[\"diamonds\"])}')\n",
    "print(f'path: {response[\"path\"]}')"
   ]
  },
  {
   "cell_type": "code",
   "execution_count": 1,
   "metadata": {},
   "outputs": [],
   "source": [
    "import requests\n",
    "import pandas as pd\n",
    "import csv\n",
    "import logging"
   ]
  },
  {
   "cell_type": "code",
   "execution_count": 2,
   "metadata": {},
   "outputs": [],
   "source": [
    "logging.basicConfig(format='%(message)s', level=logging.INFO)\n",
    "logger = logging.getLogger()"
   ]
  },
  {
   "cell_type": "code",
   "execution_count": 54,
   "metadata": {},
   "outputs": [],
   "source": [
    "class DiamondScraper:\n",
    "    \n",
    "    def __init__(self, page_num=1, min_carat=0.25, max_carat=1.0):\n",
    "\n",
    "        self.page_num = page_num\n",
    "        self.min_carat = min_carat\n",
    "        self.max_carat = max_carat\n",
    "        self.current_carat = self.min_carat\n",
    "        \n",
    "        self.url = 'https://www.brilliantearth.com/loose-diamonds/list/'\n",
    "        self.current_records = 0\n",
    "        self.total_records = 0\n",
    "        \n",
    "        self.upc = []\n",
    "        self.cut = []\n",
    "        self.colour = []\n",
    "        self.clarity = []\n",
    "        self.carat = []\n",
    "        self.x = []\n",
    "        self.y = []\n",
    "        self.z = []\n",
    "        self.lw_ratio = []\n",
    "        self.depth = []\n",
    "        self.table = []\n",
    "        self.fluorescence = []\n",
    "        self.polish = []\n",
    "        self.symmetry = []\n",
    "        self.report = []\n",
    "        self.origin = []\n",
    "        self.price = []\n",
    "\n",
    "    \n",
    "    def get_diamonds(self):\n",
    "        \n",
    "        path = f'?shapes=Round&min_carat={self.current_carat}&max_carat={self.current_carat}&page={self.page_num}'\n",
    "        full_path = self.url + path\n",
    "        \n",
    "        response = requests.get(full_path).json()\n",
    "        \n",
    "        if bool(response) == False:\n",
    "            logger.info(\n",
    "                f'***** Retrived {self.current_records:,} '\n",
    "                f'diamonds of {self.current_carat:.2f} carat weight *****'\n",
    "            )\n",
    "            \n",
    "            if self.current_carat < self.max_carat:\n",
    "                self.current_carat += 0.01\n",
    "                self.get_diamonds()\n",
    "                \n",
    "            else:\n",
    "                logger.info(\n",
    "                    f'***** Retrived {self.total_records:,} '\n",
    "                    f'diamonds of {self.min_carat:.2f} - {self.max_carat:.2f} carat weight *****'\n",
    "                )\n",
    "        \n",
    "        else:\n",
    "            for diamond in response['diamonds']:\n",
    "                self.upc.append(diamond['upc'])\n",
    "                self.cut.append(diamond['cut'])\n",
    "                self.colour.append(diamond['color'])\n",
    "                self.clarity.append(diamond['clarity'])\n",
    "                self.carat.append(diamond['carat'])\n",
    "                measurements = diamond['measurements'].split(' x ')\n",
    "                x = float(measurements[0])\n",
    "                y = float(measurements[1])\n",
    "                z = float(measurements[2])\n",
    "                lw_ratio = round(x / y, 4)\n",
    "                self.x.append(x)\n",
    "                self.y.append(y)\n",
    "                self.z.append(z)\n",
    "                self.lw_ratio.append(lw_ratio)\n",
    "                self.depth.append(diamond['depth'])\n",
    "                self.table.append(diamond['table'])\n",
    "                self.fluorescence.append(diamond['fluorescence'])\n",
    "                self.polish.append(diamond['polish'])\n",
    "                self.symmetry.append(diamond['symmetry'])\n",
    "                self.report.append(diamond['report'])\n",
    "                self.origin.append(diamond['origin'])\n",
    "                self.price.append(diamond['price'])\n",
    "                \n",
    "                self.current_records += 1\n",
    "                self.total_records += 1\n",
    "\n",
    "            if response['total_count'] % 20 == 0:\n",
    "\n",
    "                while self.page_num < (response['total_count'] / 20):\n",
    "                    self.page_num += 1\n",
    "                    self.get_diamonds()\n",
    "\n",
    "                logger.info(\n",
    "                    f'***** Retrived {self.current_records:,} '\n",
    "                    f'diamonds of {self.current_carat:.2f} carat weight *****'\n",
    "                )\n",
    "                self.current_records = 0\n",
    "\n",
    "            else:\n",
    "\n",
    "                if len(response['diamonds']) == 20:\n",
    "                    self.page_num += 1\n",
    "                    self.get_diamonds()\n",
    "\n",
    "                else:\n",
    "                    logger.info(\n",
    "                        f'***** Retrived {self.current_records:,} '\n",
    "                        f'diamonds of {self.current_carat:.2f} carat weight *****'\n",
    "                    )\n",
    "                    self.current_records = 0\n",
    "\n",
    "            if self.current_carat < self.max_carat:\n",
    "                self.current_carat += 0.01\n",
    "                self.page_num = 1\n",
    "                self.get_diamonds()\n",
    "\n",
    "    \n",
    "    def save_csv(self, filename):\n",
    "        \n",
    "        header = [\n",
    "            'upc', 'cut', 'colour', 'clarity', 'carat', 'x', 'y', 'z', 'lw_ratio', 'depth', 'table', \\\n",
    "            'fluorescence', 'polish', 'symmetry', 'report', 'origin', 'price'\n",
    "        ]\n",
    "        \n",
    "        rows = zip(\n",
    "            self.upc, self.cut, self.colour, self.clarity, self.carat, self.x, self.y, \\\n",
    "            self.z, self.lw_ratio, self.depth, self.table, self.fluorescence, \\\n",
    "            self.polish, self.symmetry, self.report, self.origin, self.price\n",
    "        )\n",
    "        \n",
    "        with open(filename, 'w', newline='') as csv_file:\n",
    "            writer = csv.writer(csv_file, quoting=csv.QUOTE_NONNUMERIC)\n",
    "            writer.writerow(header)\n",
    "            for row in rows:\n",
    "                writer.writerow(row)\n",
    "            \n",
    "    "
   ]
  },
  {
   "cell_type": "code",
   "execution_count": 55,
   "metadata": {},
   "outputs": [],
   "source": [
    "bling = DiamondScraper()"
   ]
  },
  {
   "cell_type": "code",
   "execution_count": 56,
   "metadata": {},
   "outputs": [
    {
     "name": "stderr",
     "output_type": "stream",
     "text": [
      "***** Retrived 440 diamonds of 0.25 carat weight *****\n",
      "***** Retrived 331 diamonds of 0.26 carat weight *****\n",
      "***** Retrived 175 diamonds of 0.27 carat weight *****\n",
      "***** Retrived 61 diamonds of 0.28 carat weight *****\n",
      "***** Retrived 47 diamonds of 0.29 carat weight *****\n",
      "***** Retrived 9,099 diamonds of 0.30 carat weight *****\n",
      "***** Retrived 2,354 diamonds of 0.31 carat weight *****\n",
      "***** Retrived 1,632 diamonds of 0.32 carat weight *****\n",
      "***** Retrived 1,188 diamonds of 0.33 carat weight *****\n",
      "***** Retrived 774 diamonds of 0.34 carat weight *****\n",
      "***** Retrived 658 diamonds of 0.35 carat weight *****\n",
      "***** Retrived 376 diamonds of 0.36 carat weight *****\n",
      "***** Retrived 531 diamonds of 0.37 carat weight *****\n",
      "***** Retrived 207 diamonds of 0.38 carat weight *****\n",
      "***** Retrived 41 diamonds of 0.39 carat weight *****\n",
      "***** Retrived 3,574 diamonds of 0.40 carat weight *****\n",
      "***** Retrived 725 diamonds of 0.41 carat weight *****\n",
      "***** Retrived 395 diamonds of 0.42 carat weight *****\n",
      "***** Retrived 212 diamonds of 0.43 carat weight *****\n",
      "***** Retrived 95 diamonds of 0.44 carat weight *****\n",
      "***** Retrived 985 diamonds of 0.45 carat weight *****\n",
      "***** Retrived 533 diamonds of 0.46 carat weight *****\n",
      "***** Retrived 49 diamonds of 0.47 carat weight *****\n",
      "***** Retrived 16 diamonds of 0.48 carat weight *****\n",
      "***** Retrived 19 diamonds of 0.49 carat weight *****\n",
      "***** Retrived 7,075 diamonds of 0.50 carat weight *****\n",
      "***** Retrived 1,307 diamonds of 0.51 carat weight *****\n",
      "***** Retrived 733 diamonds of 0.52 carat weight *****\n",
      "***** Retrived 666 diamonds of 0.53 carat weight *****\n",
      "***** Retrived 362 diamonds of 0.54 carat weight *****\n",
      "***** Retrived 458 diamonds of 0.55 carat weight *****\n",
      "***** Retrived 341 diamonds of 0.56 carat weight *****\n",
      "***** Retrived 306 diamonds of 0.57 carat weight *****\n",
      "***** Retrived 229 diamonds of 0.58 carat weight *****\n",
      "***** Retrived 195 diamonds of 0.59 carat weight *****\n",
      "***** Retrived 1,167 diamonds of 0.60 carat weight *****\n",
      "***** Retrived 394 diamonds of 0.61 carat weight *****\n",
      "***** Retrived 240 diamonds of 0.62 carat weight *****\n",
      "***** Retrived 210 diamonds of 0.63 carat weight *****\n",
      "***** Retrived 102 diamonds of 0.64 carat weight *****\n",
      "***** Retrived 136 diamonds of 0.65 carat weight *****\n",
      "***** Retrived 68 diamonds of 0.66 carat weight *****\n",
      "***** Retrived 37 diamonds of 0.67 carat weight *****\n",
      "***** Retrived 15 diamonds of 0.68 carat weight *****\n",
      "***** Retrived 0 diamonds of 0.69 carat weight *****\n",
      "***** Retrived 2,026 diamonds of 0.70 carat weight *****\n",
      "***** Retrived 399 diamonds of 0.71 carat weight *****\n",
      "***** Retrived 208 diamonds of 0.72 carat weight *****\n",
      "***** Retrived 126 diamonds of 0.73 carat weight *****\n",
      "***** Retrived 70 diamonds of 0.74 carat weight *****\n",
      "***** Retrived 299 diamonds of 0.75 carat weight *****\n",
      "***** Retrived 102 diamonds of 0.76 carat weight *****\n",
      "***** Retrived 56 diamonds of 0.77 carat weight *****\n",
      "***** Retrived 54 diamonds of 0.78 carat weight *****\n",
      "***** Retrived 11 diamonds of 0.79 carat weight *****\n",
      "***** Retrived 1,400 diamonds of 0.80 carat weight *****\n",
      "***** Retrived 301 diamonds of 0.81 carat weight *****\n",
      "***** Retrived 160 diamonds of 0.82 carat weight *****\n",
      "***** Retrived 121 diamonds of 0.83 carat weight *****\n",
      "***** Retrived 78 diamonds of 0.84 carat weight *****\n",
      "***** Retrived 129 diamonds of 0.85 carat weight *****\n",
      "***** Retrived 61 diamonds of 0.86 carat weight *****\n",
      "***** Retrived 36 diamonds of 0.87 carat weight *****\n",
      "***** Retrived 7 diamonds of 0.88 carat weight *****\n",
      "***** Retrived 0 diamonds of 0.89 carat weight *****\n",
      "***** Retrived 896 diamonds of 0.90 carat weight *****\n",
      "***** Retrived 124 diamonds of 0.91 carat weight *****\n",
      "***** Retrived 33 diamonds of 0.92 carat weight *****\n",
      "***** Retrived 21 diamonds of 0.93 carat weight *****\n",
      "***** Retrived 7 diamonds of 0.94 carat weight *****\n",
      "***** Retrived 16 diamonds of 0.95 carat weight *****\n",
      "***** Retrived 60 diamonds of 0.96 carat weight *****\n",
      "***** Retrived 8 diamonds of 0.97 carat weight *****\n",
      "***** Retrived 0 diamonds of 0.98 carat weight *****\n",
      "***** Retrived 0 diamonds of 0.99 carat weight *****\n",
      "***** Retrived 1,843 diamonds of 1.00 carat weight *****\n",
      "***** Retrived 0 diamonds of 1.00 carat weight *****\n",
      "***** Retrived 0 diamonds of 1.00 carat weight *****\n",
      "***** Retrived 0 diamonds of 1.00 carat weight *****\n",
      "***** Retrived 0 diamonds of 1.00 carat weight *****\n",
      "***** Retrived 0 diamonds of 1.00 carat weight *****\n",
      "***** Retrived 0 diamonds of 1.00 carat weight *****\n",
      "***** Retrived 0 diamonds of 1.00 carat weight *****\n",
      "***** Retrived 0 diamonds of 1.00 carat weight *****\n",
      "***** Retrived 0 diamonds of 1.00 carat weight *****\n",
      "***** Retrived 0 diamonds of 1.00 carat weight *****\n",
      "***** Retrived 0 diamonds of 1.00 carat weight *****\n",
      "***** Retrived 0 diamonds of 1.00 carat weight *****\n",
      "***** Retrived 0 diamonds of 1.00 carat weight *****\n",
      "***** Retrived 0 diamonds of 1.00 carat weight *****\n",
      "***** Retrived 0 diamonds of 1.00 carat weight *****\n",
      "***** Retrived 0 diamonds of 1.00 carat weight *****\n",
      "***** Retrived 0 diamonds of 1.00 carat weight *****\n",
      "***** Retrived 0 diamonds of 1.00 carat weight *****\n",
      "***** Retrived 0 diamonds of 1.00 carat weight *****\n",
      "***** Retrived 0 diamonds of 1.00 carat weight *****\n",
      "***** Retrived 0 diamonds of 1.00 carat weight *****\n",
      "***** Retrived 0 diamonds of 1.00 carat weight *****\n",
      "***** Retrived 0 diamonds of 1.00 carat weight *****\n",
      "***** Retrived 0 diamonds of 1.00 carat weight *****\n",
      "***** Retrived 0 diamonds of 1.00 carat weight *****\n",
      "***** Retrived 0 diamonds of 1.00 carat weight *****\n",
      "***** Retrived 0 diamonds of 1.00 carat weight *****\n",
      "***** Retrived 0 diamonds of 1.00 carat weight *****\n",
      "***** Retrived 0 diamonds of 1.00 carat weight *****\n",
      "***** Retrived 0 diamonds of 1.00 carat weight *****\n",
      "***** Retrived 0 diamonds of 1.00 carat weight *****\n",
      "***** Retrived 0 diamonds of 1.00 carat weight *****\n",
      "***** Retrived 0 diamonds of 1.00 carat weight *****\n",
      "***** Retrived 0 diamonds of 1.00 carat weight *****\n",
      "***** Retrived 0 diamonds of 1.00 carat weight *****\n",
      "***** Retrived 0 diamonds of 1.00 carat weight *****\n",
      "***** Retrived 0 diamonds of 1.00 carat weight *****\n",
      "***** Retrived 0 diamonds of 1.00 carat weight *****\n",
      "***** Retrived 0 diamonds of 1.00 carat weight *****\n",
      "***** Retrived 0 diamonds of 1.00 carat weight *****\n",
      "***** Retrived 0 diamonds of 1.00 carat weight *****\n",
      "***** Retrived 0 diamonds of 1.00 carat weight *****\n",
      "***** Retrived 0 diamonds of 1.00 carat weight *****\n",
      "***** Retrived 0 diamonds of 1.00 carat weight *****\n",
      "***** Retrived 0 diamonds of 1.00 carat weight *****\n",
      "***** Retrived 0 diamonds of 1.00 carat weight *****\n",
      "***** Retrived 0 diamonds of 1.00 carat weight *****\n",
      "***** Retrived 0 diamonds of 1.00 carat weight *****\n",
      "***** Retrived 0 diamonds of 1.00 carat weight *****\n",
      "***** Retrived 0 diamonds of 1.00 carat weight *****\n",
      "***** Retrived 0 diamonds of 1.00 carat weight *****\n",
      "***** Retrived 0 diamonds of 1.00 carat weight *****\n",
      "***** Retrived 0 diamonds of 1.00 carat weight *****\n",
      "***** Retrived 0 diamonds of 1.00 carat weight *****\n",
      "***** Retrived 0 diamonds of 1.00 carat weight *****\n",
      "***** Retrived 0 diamonds of 1.00 carat weight *****\n",
      "***** Retrived 0 diamonds of 1.00 carat weight *****\n",
      "***** Retrived 0 diamonds of 1.00 carat weight *****\n",
      "***** Retrived 0 diamonds of 1.00 carat weight *****\n",
      "***** Retrived 0 diamonds of 1.00 carat weight *****\n",
      "***** Retrived 0 diamonds of 1.00 carat weight *****\n",
      "***** Retrived 0 diamonds of 1.00 carat weight *****\n",
      "***** Retrived 0 diamonds of 1.00 carat weight *****\n",
      "***** Retrived 0 diamonds of 1.00 carat weight *****\n",
      "***** Retrived 0 diamonds of 1.00 carat weight *****\n",
      "***** Retrived 0 diamonds of 1.00 carat weight *****\n",
      "***** Retrived 0 diamonds of 1.00 carat weight *****\n",
      "***** Retrived 0 diamonds of 1.00 carat weight *****\n",
      "***** Retrived 0 diamonds of 1.00 carat weight *****\n",
      "***** Retrived 0 diamonds of 1.00 carat weight *****\n",
      "***** Retrived 0 diamonds of 1.00 carat weight *****\n",
      "***** Retrived 0 diamonds of 1.00 carat weight *****\n",
      "***** Retrived 0 diamonds of 1.00 carat weight *****\n",
      "***** Retrived 0 diamonds of 1.00 carat weight *****\n",
      "***** Retrived 0 diamonds of 1.00 carat weight *****\n",
      "***** Retrived 0 diamonds of 1.00 carat weight *****\n"
     ]
    },
    {
     "name": "stderr",
     "output_type": "stream",
     "text": [
      "***** Retrived 0 diamonds of 1.00 carat weight *****\n",
      "***** Retrived 0 diamonds of 1.00 carat weight *****\n",
      "***** Retrived 0 diamonds of 1.00 carat weight *****\n",
      "***** Retrived 0 diamonds of 1.00 carat weight *****\n",
      "***** Retrived 0 diamonds of 1.00 carat weight *****\n",
      "***** Retrived 0 diamonds of 1.00 carat weight *****\n",
      "***** Retrived 0 diamonds of 1.00 carat weight *****\n",
      "***** Retrived 0 diamonds of 1.00 carat weight *****\n",
      "***** Retrived 0 diamonds of 1.00 carat weight *****\n",
      "***** Retrived 0 diamonds of 1.00 carat weight *****\n",
      "***** Retrived 0 diamonds of 1.00 carat weight *****\n",
      "***** Retrived 0 diamonds of 1.00 carat weight *****\n",
      "***** Retrived 0 diamonds of 1.00 carat weight *****\n",
      "***** Retrived 0 diamonds of 1.00 carat weight *****\n",
      "***** Retrived 0 diamonds of 1.00 carat weight *****\n",
      "***** Retrived 0 diamonds of 1.00 carat weight *****\n",
      "***** Retrived 0 diamonds of 1.00 carat weight *****\n",
      "***** Retrived 0 diamonds of 1.00 carat weight *****\n",
      "***** Retrived 0 diamonds of 1.00 carat weight *****\n",
      "***** Retrived 0 diamonds of 1.00 carat weight *****\n",
      "***** Retrived 0 diamonds of 1.00 carat weight *****\n",
      "***** Retrived 0 diamonds of 1.00 carat weight *****\n",
      "***** Retrived 0 diamonds of 1.00 carat weight *****\n",
      "***** Retrived 0 diamonds of 1.00 carat weight *****\n",
      "***** Retrived 0 diamonds of 1.00 carat weight *****\n",
      "***** Retrived 0 diamonds of 1.00 carat weight *****\n",
      "***** Retrived 0 diamonds of 1.00 carat weight *****\n",
      "***** Retrived 0 diamonds of 1.00 carat weight *****\n",
      "***** Retrived 0 diamonds of 1.00 carat weight *****\n",
      "***** Retrived 0 diamonds of 1.00 carat weight *****\n",
      "***** Retrived 0 diamonds of 1.00 carat weight *****\n",
      "***** Retrived 0 diamonds of 1.00 carat weight *****\n",
      "***** Retrived 0 diamonds of 1.00 carat weight *****\n",
      "***** Retrived 0 diamonds of 1.00 carat weight *****\n"
     ]
    },
    {
     "name": "stdout",
     "output_type": "stream",
     "text": [
      "CPU times: user 50.6 s, sys: 24.4 s, total: 1min 15s\n",
      "Wall time: 19min 43s\n"
     ]
    }
   ],
   "source": [
    "%%time\n",
    "bling.get_diamonds()"
   ]
  },
  {
   "cell_type": "code",
   "execution_count": 58,
   "metadata": {},
   "outputs": [],
   "source": [
    "bling.save_csv('test.csv')"
   ]
  },
  {
   "cell_type": "code",
   "execution_count": 59,
   "metadata": {
    "scrolled": true
   },
   "outputs": [
    {
     "data": {
      "text/plain": [
       "47210"
      ]
     },
     "execution_count": 59,
     "metadata": {},
     "output_type": "execute_result"
    }
   ],
   "source": [
    "len(bling.upc)"
   ]
  },
  {
   "cell_type": "code",
   "execution_count": 48,
   "metadata": {},
   "outputs": [
    {
     "data": {
      "text/plain": [
       "1.0"
      ]
     },
     "execution_count": 48,
     "metadata": {},
     "output_type": "execute_result"
    }
   ],
   "source": [
    "bling.carat[-1]"
   ]
  },
  {
   "cell_type": "code",
   "execution_count": null,
   "metadata": {},
   "outputs": [],
   "source": [
    "# diamonds.duplicated(subset='upc')\n",
    "df[df.duplicated(['diamond_id'], keep=False)]"
   ]
  },
  {
   "cell_type": "code",
   "execution_count": null,
   "metadata": {},
   "outputs": [],
   "source": [
    "df2.info()"
   ]
  },
  {
   "cell_type": "code",
   "execution_count": null,
   "metadata": {},
   "outputs": [],
   "source": [
    "df.tail()"
   ]
  },
  {
   "cell_type": "code",
   "execution_count": null,
   "metadata": {},
   "outputs": [],
   "source": [
    "df3 = pd.concat(\n",
    "    [df, df2],\n",
    "    ignore_index=True\n",
    ")"
   ]
  },
  {
   "cell_type": "code",
   "execution_count": null,
   "metadata": {},
   "outputs": [],
   "source": [
    "df3.info()"
   ]
  },
  {
   "cell_type": "code",
   "execution_count": null,
   "metadata": {},
   "outputs": [],
   "source": [
    "df3.tail()"
   ]
  },
  {
   "cell_type": "code",
   "execution_count": null,
   "metadata": {},
   "outputs": [],
   "source": [
    "3 + 0.01"
   ]
  },
  {
   "cell_type": "code",
   "execution_count": null,
   "metadata": {},
   "outputs": [],
   "source": [
    "data = {\"upc\": \"4257024Y\", \"active\": True, \"title\": \"0.50 Carat Round Diamond\", \"product_class\": \"Loose Diamonds\", \"index_id\": 10322045, \"shape\": \"Round\", \"price\": 1065, \"carat\": 0.5, \"color\": \"J\", \"clarity\": \"SI2\", \"cut\": \"Very Good\", \"length_width_ratio\": 1, \"collection\": \"\", \"report\": \"GIA\", \"origin\": \"Botswana Sort\", \"polish\": \"Very Good\", \"symmetry\": \"Very Good\", \"measurements\": \"5.06 x 5.03 x 3.14\", \"depth\": 62.3, \"table\": 63.0, \"girdle\": \"Slightly Thick - Thick\", \"culet\": \"None\", \"fluorescence\": \"None\", \"shipping_day\": 6, \"color_order\": 1, \"clarity_order\": 1, \"cut_order\": 4, \"report_order\": 4, \"collection_order\": None, \"is_memo\": False, \"valid\": True, \"has_cert\": True, \"certificate_number\": \"2364594873\", \"shipping_supplier\": \"Sheetalny\", \"length\": 5.045, \"inventory_location\": [], \"dedicated\": False, \"has_v360_video\": True, \"v360_src\": \"//css.brilliantearth.com/static/v360_viewer/Vision360.html?d=2364594873&surl=//image.brilliantearth.com/media/v360/&version=0\", \"diamond_blockchain\": False, \"diamond_dor\": False, \"rank_order\": 12, \"images\": {\"images\": [{\"caption\": \"top_lg\", \"src\": \"//image.brilliantearth.com/media/cache/4f/f1/4ff1cc55e37cf1244aff2c300740a8cb.jpg\", \"alt\": \"0.50 Carat Round Diamond large top view\"}, {\"caption\": \"vert\", \"src\": \"//image.brilliantearth.com/media/cache/11/24/1124f52a10efa7c396304223a9463fd4.png\", \"alt\": \"0.50 Carat Round Diamond top view with measurements\"}, {\"caption\": \"hori\", \"src\": \"//image.brilliantearth.com/media/cache/e9/4a/e94a8f78736e101f1c92e6ff574f5d7a.png\", \"alt\": \"0.50 Carat Round Diamond side view with measurements\"}, {\"caption\": \"vertsmall\", \"src\": \"//image.brilliantearth.com/media/diamond_shape/RND-Top-62x62.png\", \"alt\": \"0.50 Carat Round Diamond small top view with measurements\"}, {\"caption\": \"horismall\", \"src\": \"//image.brilliantearth.com/media/diamond_shape/RND-Side-62x62.png\", \"alt\": \"0.50 Carat Round Diamond small side view with measurements\"}], \"shape\": [], \"sort_shapes\": [], \"purchased\": [], \"thumb_images\": [], \"similar_purchased\": [], \"skin_tone\": [], \"real_images\": []}, \"index_name\": \"loose-diamonds\", \"id\": 10322045, \"is_new_year\": False, \"is_christmas\": False, \"is_valentines_day\": True, \"orderby\": \"Monday February 1, 2021 by 2:00 PM PT\", \"receiveby\": \"Tuesday, February 9\", \"receiveby_short\": \"Tue, Feb 9\", \"orderby_short\": \"2 PM PT today\"}"
   ]
  },
  {
   "cell_type": "code",
   "execution_count": null,
   "metadata": {},
   "outputs": [],
   "source": [
    "data"
   ]
  },
  {
   "cell_type": "code",
   "execution_count": null,
   "metadata": {},
   "outputs": [],
   "source": [
    "data['measurements'].split(' x ')[2]"
   ]
  },
  {
   "cell_type": "code",
   "execution_count": null,
   "metadata": {},
   "outputs": [],
   "source": [
    "test2 = pd.read_csv('test.csv')\n",
    "test2.head()\n",
    "\n"
   ]
  },
  {
   "cell_type": "code",
   "execution_count": null,
   "metadata": {},
   "outputs": [],
   "source": [
    "test2.info()"
   ]
  },
  {
   "cell_type": "code",
   "execution_count": null,
   "metadata": {},
   "outputs": [],
   "source": [
    "round(5.06 / 5.03, 2)"
   ]
  },
  {
   "cell_type": "code",
   "execution_count": null,
   "metadata": {},
   "outputs": [],
   "source": [
    "with open('test.csv', newline='') as csvfile:\n",
    "    reader = csv.DictReader(csvfile)\n",
    "    for row in reader:\n",
    "        print(row['first_name'], row['last_name'])\n",
    "\n"
   ]
  },
  {
   "cell_type": "code",
   "execution_count": 49,
   "metadata": {},
   "outputs": [],
   "source": [
    "df = pd.read_csv('test.csv', dtype={'certificate_number': object})"
   ]
  },
  {
   "cell_type": "code",
   "execution_count": 50,
   "metadata": {},
   "outputs": [
    {
     "name": "stdout",
     "output_type": "stream",
     "text": [
      "<class 'pandas.core.frame.DataFrame'>\n",
      "RangeIndex: 22698 entries, 0 to 22697\n",
      "Data columns (total 20 columns):\n",
      " #   Column              Non-Null Count  Dtype  \n",
      "---  ------              --------------  -----  \n",
      " 0   upc                 22698 non-null  object \n",
      " 1   cut                 22698 non-null  object \n",
      " 2   colour              22698 non-null  object \n",
      " 3   clarity             22698 non-null  object \n",
      " 4   carat               22698 non-null  float64\n",
      " 5   x                   22698 non-null  float64\n",
      " 6   y                   22698 non-null  float64\n",
      " 7   z                   22698 non-null  float64\n",
      " 8   lw_ratio            22698 non-null  float64\n",
      " 9   depth               22698 non-null  float64\n",
      " 10  table               22698 non-null  float64\n",
      " 11  girdle              22362 non-null  object \n",
      " 12  culet               22512 non-null  object \n",
      " 13  fluorescence        22698 non-null  object \n",
      " 14  polish              22698 non-null  object \n",
      " 15  symmetry            22698 non-null  object \n",
      " 16  report              22698 non-null  object \n",
      " 17  origin              22698 non-null  object \n",
      " 18  certificate_number  22698 non-null  object \n",
      " 19  price               22698 non-null  int64  \n",
      "dtypes: float64(7), int64(1), object(12)\n",
      "memory usage: 3.5+ MB\n"
     ]
    }
   ],
   "source": [
    "df.info()"
   ]
  },
  {
   "cell_type": "code",
   "execution_count": 51,
   "metadata": {},
   "outputs": [
    {
     "data": {
      "text/html": [
       "<div>\n",
       "<style scoped>\n",
       "    .dataframe tbody tr th:only-of-type {\n",
       "        vertical-align: middle;\n",
       "    }\n",
       "\n",
       "    .dataframe tbody tr th {\n",
       "        vertical-align: top;\n",
       "    }\n",
       "\n",
       "    .dataframe thead th {\n",
       "        text-align: right;\n",
       "    }\n",
       "</style>\n",
       "<table border=\"1\" class=\"dataframe\">\n",
       "  <thead>\n",
       "    <tr style=\"text-align: right;\">\n",
       "      <th></th>\n",
       "      <th>upc</th>\n",
       "      <th>cut</th>\n",
       "      <th>colour</th>\n",
       "      <th>clarity</th>\n",
       "      <th>carat</th>\n",
       "      <th>x</th>\n",
       "      <th>y</th>\n",
       "      <th>z</th>\n",
       "      <th>lw_ratio</th>\n",
       "      <th>depth</th>\n",
       "      <th>table</th>\n",
       "      <th>girdle</th>\n",
       "      <th>culet</th>\n",
       "      <th>fluorescence</th>\n",
       "      <th>polish</th>\n",
       "      <th>symmetry</th>\n",
       "      <th>report</th>\n",
       "      <th>origin</th>\n",
       "      <th>certificate_number</th>\n",
       "      <th>price</th>\n",
       "    </tr>\n",
       "  </thead>\n",
       "  <tbody>\n",
       "    <tr>\n",
       "      <th>22693</th>\n",
       "      <td>4215690A</td>\n",
       "      <td>Super Ideal</td>\n",
       "      <td>D</td>\n",
       "      <td>IF</td>\n",
       "      <td>1.0</td>\n",
       "      <td>6.42</td>\n",
       "      <td>6.38</td>\n",
       "      <td>3.98</td>\n",
       "      <td>1.0063</td>\n",
       "      <td>62.2</td>\n",
       "      <td>57.0</td>\n",
       "      <td>Medium</td>\n",
       "      <td>None</td>\n",
       "      <td>None</td>\n",
       "      <td>Excellent</td>\n",
       "      <td>Excellent</td>\n",
       "      <td>GIA</td>\n",
       "      <td>Russia</td>\n",
       "      <td>6214303722</td>\n",
       "      <td>21175</td>\n",
       "    </tr>\n",
       "    <tr>\n",
       "      <th>22694</th>\n",
       "      <td>4291890A</td>\n",
       "      <td>Super Ideal</td>\n",
       "      <td>D</td>\n",
       "      <td>IF</td>\n",
       "      <td>1.0</td>\n",
       "      <td>6.40</td>\n",
       "      <td>6.38</td>\n",
       "      <td>4.01</td>\n",
       "      <td>1.0031</td>\n",
       "      <td>62.8</td>\n",
       "      <td>57.0</td>\n",
       "      <td>Medium</td>\n",
       "      <td>None</td>\n",
       "      <td>None</td>\n",
       "      <td>Excellent</td>\n",
       "      <td>Excellent</td>\n",
       "      <td>GIA</td>\n",
       "      <td>Russia</td>\n",
       "      <td>5373324940</td>\n",
       "      <td>21265</td>\n",
       "    </tr>\n",
       "    <tr>\n",
       "      <th>22695</th>\n",
       "      <td>4099444A</td>\n",
       "      <td>Super Ideal</td>\n",
       "      <td>D</td>\n",
       "      <td>FL</td>\n",
       "      <td>1.0</td>\n",
       "      <td>6.39</td>\n",
       "      <td>6.34</td>\n",
       "      <td>3.98</td>\n",
       "      <td>1.0079</td>\n",
       "      <td>62.6</td>\n",
       "      <td>58.0</td>\n",
       "      <td>Medium</td>\n",
       "      <td>None</td>\n",
       "      <td>None</td>\n",
       "      <td>Excellent</td>\n",
       "      <td>Excellent</td>\n",
       "      <td>GIA</td>\n",
       "      <td>Botswana Sort</td>\n",
       "      <td>6213118776</td>\n",
       "      <td>21315</td>\n",
       "    </tr>\n",
       "    <tr>\n",
       "      <th>22696</th>\n",
       "      <td>4290301A</td>\n",
       "      <td>Super Ideal</td>\n",
       "      <td>D</td>\n",
       "      <td>IF</td>\n",
       "      <td>1.0</td>\n",
       "      <td>6.38</td>\n",
       "      <td>6.33</td>\n",
       "      <td>4.00</td>\n",
       "      <td>1.0079</td>\n",
       "      <td>62.9</td>\n",
       "      <td>58.0</td>\n",
       "      <td>Medium</td>\n",
       "      <td>None</td>\n",
       "      <td>None</td>\n",
       "      <td>Excellent</td>\n",
       "      <td>Excellent</td>\n",
       "      <td>GIA</td>\n",
       "      <td>Russia</td>\n",
       "      <td>6214387159</td>\n",
       "      <td>21470</td>\n",
       "    </tr>\n",
       "    <tr>\n",
       "      <th>22697</th>\n",
       "      <td>4289962A</td>\n",
       "      <td>Super Ideal</td>\n",
       "      <td>D</td>\n",
       "      <td>IF</td>\n",
       "      <td>1.0</td>\n",
       "      <td>6.40</td>\n",
       "      <td>6.36</td>\n",
       "      <td>4.00</td>\n",
       "      <td>1.0063</td>\n",
       "      <td>62.6</td>\n",
       "      <td>58.0</td>\n",
       "      <td>Medium - Slightly Thick</td>\n",
       "      <td>None</td>\n",
       "      <td>None</td>\n",
       "      <td>Excellent</td>\n",
       "      <td>Excellent</td>\n",
       "      <td>GIA</td>\n",
       "      <td>Russia</td>\n",
       "      <td>7371068759</td>\n",
       "      <td>23300</td>\n",
       "    </tr>\n",
       "  </tbody>\n",
       "</table>\n",
       "</div>"
      ],
      "text/plain": [
       "            upc          cut colour clarity  carat     x     y     z  \\\n",
       "22693  4215690A  Super Ideal      D      IF    1.0  6.42  6.38  3.98   \n",
       "22694  4291890A  Super Ideal      D      IF    1.0  6.40  6.38  4.01   \n",
       "22695  4099444A  Super Ideal      D      FL    1.0  6.39  6.34  3.98   \n",
       "22696  4290301A  Super Ideal      D      IF    1.0  6.38  6.33  4.00   \n",
       "22697  4289962A  Super Ideal      D      IF    1.0  6.40  6.36  4.00   \n",
       "\n",
       "       lw_ratio  depth  table                   girdle culet fluorescence  \\\n",
       "22693    1.0063   62.2   57.0                   Medium  None         None   \n",
       "22694    1.0031   62.8   57.0                   Medium  None         None   \n",
       "22695    1.0079   62.6   58.0                   Medium  None         None   \n",
       "22696    1.0079   62.9   58.0                   Medium  None         None   \n",
       "22697    1.0063   62.6   58.0  Medium - Slightly Thick  None         None   \n",
       "\n",
       "          polish   symmetry report         origin certificate_number  price  \n",
       "22693  Excellent  Excellent    GIA         Russia         6214303722  21175  \n",
       "22694  Excellent  Excellent    GIA         Russia         5373324940  21265  \n",
       "22695  Excellent  Excellent    GIA  Botswana Sort         6213118776  21315  \n",
       "22696  Excellent  Excellent    GIA         Russia         6214387159  21470  \n",
       "22697  Excellent  Excellent    GIA         Russia         7371068759  23300  "
      ]
     },
     "execution_count": 51,
     "metadata": {},
     "output_type": "execute_result"
    }
   ],
   "source": [
    "df.tail()"
   ]
  },
  {
   "cell_type": "code",
   "execution_count": 52,
   "metadata": {},
   "outputs": [
    {
     "data": {
      "text/plain": [
       "F    4541\n",
       "D    4524\n",
       "G    4446\n",
       "E    3795\n",
       "H    3013\n",
       "I    1450\n",
       "J     929\n",
       "Name: colour, dtype: int64"
      ]
     },
     "execution_count": 52,
     "metadata": {},
     "output_type": "execute_result"
    }
   ],
   "source": [
    "df.colour.value_counts()"
   ]
  },
  {
   "cell_type": "code",
   "execution_count": 53,
   "metadata": {},
   "outputs": [
    {
     "data": {
      "image/png": "[encoded data removed]",
      "text/plain": [
       "<Figure size 576x576 with 1 Axes>"
      ]
     },
     "metadata": {
      "needs_background": "light"
     },
     "output_type": "display_data"
    }
   ],
   "source": [
    "import matplotlib.pyplot as plt\n",
    "import seaborn as sns\n",
    "%matplotlib inline\n",
    "\n",
    "colours = ['D', 'E', 'F', 'G', 'H', 'I', 'J']\n",
    "colour_values = []\n",
    "for i in colours:\n",
    "    colour_values.append(df.colour.value_counts().loc[i])\n",
    "colour_values\n",
    "\n",
    "plt.figure(figsize=(8, 8))\n",
    "sns.scatterplot(\n",
    "    x='carat',\n",
    "    y='price',\n",
    "    data=df,\n",
    "    s=10,\n",
    "    hue='colour',\n",
    "    alpha=0.5,\n",
    "    hue_order=colors\n",
    ")\n",
    "plt.title('Price vs Carat by Color', size=24)\n",
    "plt.show()"
   ]
  },
  {
   "cell_type": "code",
   "execution_count": null,
   "metadata": {},
   "outputs": [],
   "source": []
  }
 ],
 "metadata": {
  "kernelspec": {
   "display_name": "Python 3",
   "language": "python",
   "name": "python3"
  },
  "language_info": {
   "codemirror_mode": {
    "name": "ipython",
    "version": 3
   },
   "file_extension": ".py",
   "mimetype": "text/x-python",
   "name": "python",
   "nbconvert_exporter": "python",
   "pygments_lexer": "ipython3",
   "version": "3.8.5"
  },
  "toc": {
   "base_numbering": 1,
   "nav_menu": {},
   "number_sections": true,
   "sideBar": false,
   "skip_h1_title": false,
   "title_cell": "Table of Contents",
   "title_sidebar": "Contents",
   "toc_cell": false,
   "toc_position": {},
   "toc_section_display": true,
   "toc_window_display": false
  }
 },
 "nbformat": 4,
 "nbformat_minor": 4
}
