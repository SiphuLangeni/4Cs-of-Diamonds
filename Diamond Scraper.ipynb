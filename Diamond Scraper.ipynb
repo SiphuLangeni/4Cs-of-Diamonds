{
 "cells": [
  {
   "cell_type": "markdown",
   "metadata": {},
   "source": [
    "# Import packages"
   ]
  },
  {
   "cell_type": "code",
   "execution_count": 1,
   "metadata": {},
   "outputs": [],
   "source": [
    "import requests\n",
    "# import json\n",
    "import pandas as pd"
   ]
  },
  {
   "cell_type": "code",
   "execution_count": 13,
   "metadata": {},
   "outputs": [],
   "source": [
    "df = pd.read_csv('diamonds.csv')"
   ]
  },
  {
   "cell_type": "code",
   "execution_count": 111,
   "metadata": {},
   "outputs": [],
   "source": [
    "url = 'https://www.brilliantearth.com/loose-diamonds/list/?shapes=Round&min_carat=0.71&max_carat=0.75&page=1'"
   ]
  },
  {
   "cell_type": "code",
   "execution_count": 112,
   "metadata": {},
   "outputs": [],
   "source": [
    "response = requests.get(url).json()"
   ]
  },
  {
   "cell_type": "code",
   "execution_count": 113,
   "metadata": {},
   "outputs": [
    {
     "name": "stdout",
     "output_type": "stream",
     "text": [
      "total_count: 1070\n",
      "page: 1\n",
      "num_records: 20\n",
      "path: ?shapes=Round&min_carat=0.71&max_carat=0.75&page=1\n"
     ]
    }
   ],
   "source": [
    "print(f'total_count: {response[\"total_count\"]}')\n",
    "print(f'page: {response[\"page\"]}')\n",
    "print(f'num_records: {len(response[\"diamonds\"])}')\n",
    "print(f'path: {response[\"path\"]}')"
   ]
  },
  {
   "cell_type": "code",
   "execution_count": null,
   "metadata": {},
   "outputs": [],
   "source": []
  },
  {
   "cell_type": "code",
   "execution_count": null,
   "metadata": {},
   "outputs": [],
   "source": []
  },
  {
   "cell_type": "code",
   "execution_count": 114,
   "metadata": {},
   "outputs": [],
   "source": [
    "class Diamonds:\n",
    "    def __init__(self, page_num=1, min_carat=0.71, max_carat=0.75):\n",
    "\n",
    "        self.page_num = page_num\n",
    "        self.min_carat = min_carat\n",
    "        self.max_carat = max_carat\n",
    "        \n",
    "        self.url = 'https://www.brilliantearth.com/loose-diamonds/list/'\n",
    "        self.num_records = 0\n",
    "        \n",
    "        self.diamond_id = []\n",
    "        self.carat = []\n",
    "        self.color = []\n",
    "        self.clarity = []\n",
    "        self.cut = []\n",
    "        self.price = []\n",
    "\n",
    "    \n",
    "    def get_diamonds(self):\n",
    "        \n",
    "        path = f'?shapes=Round&min_carat={self.min_carat}&max_carat={self.min_carat}&page={self.page_num}'\n",
    "        full_path = self.url + path\n",
    "        \n",
    "        response = requests.get(full_path).json()\n",
    "\n",
    "        for diamond in response['diamonds']:\n",
    "            self.diamond_id.append(diamond['id'])\n",
    "            self.carat.append(diamond['carat'])\n",
    "            self.color.append(diamond['color'])\n",
    "            self.clarity.append(diamond['clarity'])\n",
    "            self.cut.append(diamond['cut'])\n",
    "            self.price.append(diamond['price'])\n",
    "            self.num_records += 1\n",
    "            \n",
    "        if response['total_count'] % 20 == 0:\n",
    "            \n",
    "            while self.page_num < (response['total_count'] / 20):\n",
    "                print(f'Page {self.page_num} done.')\n",
    "                self.page_num += 1\n",
    "                self.get_diamonds()\n",
    "                \n",
    "            print(f'***** Retrived {self.num_records:,} diamonds of {self.min_carat:.2f} carat weight *****')\n",
    "\n",
    "        else:\n",
    "            \n",
    "            if len(response['diamonds']) == 20:\n",
    "                print(f'Page {self.page_num} done.')\n",
    "                self.page_num += 1\n",
    "                self.get_diamonds()\n",
    "                \n",
    "            print(f'***** Retrived {self.num_records:,} diamonds of {self.min_carat:.2f} carat weight *****')\n",
    "\n",
    "        if self.min_carat < self.max_carat:\n",
    "            self.min_carat += 0.01\n",
    "            self.page_num = 1\n",
    "            self.get_diamonds()\n",
    "\n",
    "            \n",
    "    def create_frame(self):\n",
    "        \n",
    "        data = {\n",
    "            'diamond_id': self.diamond_id,\n",
    "            'carat': self.carat,\n",
    "            'color': self.color,\n",
    "            'clarity':self.clarity,\n",
    "            'cut': self.cut,\n",
    "            'price': self.price\n",
    "        }\n",
    "        \n",
    "        return pd.DataFrame(data)\n",
    "    "
   ]
  },
  {
   "cell_type": "code",
   "execution_count": 115,
   "metadata": {},
   "outputs": [],
   "source": [
    "bling = Diamonds()"
   ]
  },
  {
   "cell_type": "code",
   "execution_count": 116,
   "metadata": {},
   "outputs": [
    {
     "name": "stdout",
     "output_type": "stream",
     "text": [
      "Page 1 done.\n",
      "Page 2 done.\n",
      "Page 3 done.\n",
      "Page 4 done.\n",
      "Page 5 done.\n",
      "Page 6 done.\n",
      "Page 7 done.\n",
      "Page 8 done.\n",
      "Page 9 done.\n",
      "Page 10 done.\n",
      "Page 11 done.\n",
      "Page 12 done.\n",
      "Page 13 done.\n",
      "Page 14 done.\n",
      "Page 15 done.\n",
      "Page 16 done.\n",
      "Page 17 done.\n",
      "***** Retrived 356 diamonds of 0.71 carat weight *****\n",
      "Page 1 done.\n",
      "Page 2 done.\n",
      "Page 3 done.\n",
      "Page 4 done.\n",
      "Page 5 done.\n",
      "Page 6 done.\n",
      "Page 7 done.\n",
      "Page 8 done.\n",
      "Page 9 done.\n",
      "Page 10 done.\n",
      "***** Retrived 570 diamonds of 0.72 carat weight *****\n",
      "Page 1 done.\n",
      "Page 2 done.\n",
      "Page 3 done.\n",
      "Page 4 done.\n",
      "Page 5 done.\n",
      "***** Retrived 685 diamonds of 0.73 carat weight *****\n",
      "Page 1 done.\n",
      "***** Retrived 725 diamonds of 0.74 carat weight *****\n",
      "Page 1 done.\n",
      "Page 2 done.\n",
      "Page 3 done.\n",
      "Page 4 done.\n",
      "Page 5 done.\n",
      "Page 6 done.\n",
      "Page 7 done.\n",
      "Page 8 done.\n",
      "Page 9 done.\n",
      "Page 10 done.\n",
      "Page 11 done.\n",
      "Page 12 done.\n",
      "Page 13 done.\n",
      "Page 14 done.\n",
      "Page 15 done.\n",
      "Page 16 done.\n",
      "Page 17 done.\n",
      "***** Retrived 1,070 diamonds of 0.75 carat weight *****\n",
      "***** Retrived 1,070 diamonds of 0.75 carat weight *****\n",
      "***** Retrived 1,070 diamonds of 0.75 carat weight *****\n",
      "***** Retrived 1,070 diamonds of 0.75 carat weight *****\n",
      "***** Retrived 1,070 diamonds of 0.75 carat weight *****\n",
      "***** Retrived 1,070 diamonds of 0.75 carat weight *****\n",
      "***** Retrived 1,070 diamonds of 0.75 carat weight *****\n",
      "***** Retrived 1,070 diamonds of 0.75 carat weight *****\n",
      "***** Retrived 1,070 diamonds of 0.75 carat weight *****\n",
      "***** Retrived 1,070 diamonds of 0.75 carat weight *****\n",
      "***** Retrived 1,070 diamonds of 0.75 carat weight *****\n",
      "***** Retrived 1,070 diamonds of 0.75 carat weight *****\n",
      "***** Retrived 1,070 diamonds of 0.75 carat weight *****\n",
      "***** Retrived 1,070 diamonds of 0.75 carat weight *****\n",
      "***** Retrived 1,070 diamonds of 0.75 carat weight *****\n",
      "***** Retrived 1,070 diamonds of 0.75 carat weight *****\n",
      "***** Retrived 1,070 diamonds of 0.75 carat weight *****\n",
      "***** Retrived 1,070 diamonds of 0.75 carat weight *****\n",
      "***** Retrived 1,070 diamonds of 0.75 carat weight *****\n",
      "***** Retrived 1,070 diamonds of 0.75 carat weight *****\n",
      "***** Retrived 1,070 diamonds of 0.75 carat weight *****\n",
      "***** Retrived 1,070 diamonds of 0.75 carat weight *****\n",
      "***** Retrived 1,070 diamonds of 0.75 carat weight *****\n",
      "***** Retrived 1,070 diamonds of 0.75 carat weight *****\n",
      "***** Retrived 1,070 diamonds of 0.75 carat weight *****\n",
      "***** Retrived 1,070 diamonds of 0.75 carat weight *****\n",
      "***** Retrived 1,070 diamonds of 0.75 carat weight *****\n",
      "***** Retrived 1,070 diamonds of 0.75 carat weight *****\n",
      "***** Retrived 1,070 diamonds of 0.75 carat weight *****\n",
      "***** Retrived 1,070 diamonds of 0.75 carat weight *****\n",
      "***** Retrived 1,070 diamonds of 0.75 carat weight *****\n",
      "***** Retrived 1,070 diamonds of 0.75 carat weight *****\n",
      "***** Retrived 1,070 diamonds of 0.75 carat weight *****\n",
      "***** Retrived 1,070 diamonds of 0.75 carat weight *****\n",
      "***** Retrived 1,070 diamonds of 0.75 carat weight *****\n",
      "***** Retrived 1,070 diamonds of 0.75 carat weight *****\n",
      "***** Retrived 1,070 diamonds of 0.75 carat weight *****\n",
      "***** Retrived 1,070 diamonds of 0.75 carat weight *****\n",
      "***** Retrived 1,070 diamonds of 0.75 carat weight *****\n",
      "***** Retrived 1,070 diamonds of 0.75 carat weight *****\n",
      "***** Retrived 1,070 diamonds of 0.75 carat weight *****\n",
      "***** Retrived 1,070 diamonds of 0.75 carat weight *****\n",
      "***** Retrived 1,070 diamonds of 0.75 carat weight *****\n",
      "***** Retrived 1,070 diamonds of 0.75 carat weight *****\n",
      "***** Retrived 1,070 diamonds of 0.75 carat weight *****\n",
      "***** Retrived 1,070 diamonds of 0.75 carat weight *****\n",
      "***** Retrived 1,070 diamonds of 0.75 carat weight *****\n",
      "***** Retrived 1,070 diamonds of 0.75 carat weight *****\n",
      "***** Retrived 1,070 diamonds of 0.75 carat weight *****\n",
      "***** Retrived 1,070 diamonds of 0.75 carat weight *****\n",
      "***** Retrived 1,070 diamonds of 0.75 carat weight *****\n",
      "CPU times: user 1.2 s, sys: 115 ms, total: 1.31 s\n",
      "Wall time: 33.2 s\n"
     ]
    }
   ],
   "source": [
    "%%time\n",
    "bling.get_diamonds()"
   ]
  },
  {
   "cell_type": "code",
   "execution_count": 117,
   "metadata": {},
   "outputs": [
    {
     "data": {
      "text/plain": [
       "1070"
      ]
     },
     "execution_count": 117,
     "metadata": {},
     "output_type": "execute_result"
    }
   ],
   "source": [
    "len(bling.diamond_id)"
   ]
  },
  {
   "cell_type": "code",
   "execution_count": 118,
   "metadata": {},
   "outputs": [],
   "source": [
    "diamonds = bling.create_frame()"
   ]
  },
  {
   "cell_type": "code",
   "execution_count": 119,
   "metadata": {},
   "outputs": [
    {
     "data": {
      "text/html": [
       "<div>\n",
       "<style scoped>\n",
       "    .dataframe tbody tr th:only-of-type {\n",
       "        vertical-align: middle;\n",
       "    }\n",
       "\n",
       "    .dataframe tbody tr th {\n",
       "        vertical-align: top;\n",
       "    }\n",
       "\n",
       "    .dataframe thead th {\n",
       "        text-align: right;\n",
       "    }\n",
       "</style>\n",
       "<table border=\"1\" class=\"dataframe\">\n",
       "  <thead>\n",
       "    <tr style=\"text-align: right;\">\n",
       "      <th></th>\n",
       "      <th>diamond_id</th>\n",
       "      <th>carat</th>\n",
       "      <th>color</th>\n",
       "      <th>clarity</th>\n",
       "      <th>cut</th>\n",
       "      <th>price</th>\n",
       "    </tr>\n",
       "  </thead>\n",
       "  <tbody>\n",
       "    <tr>\n",
       "      <th>0</th>\n",
       "      <td>10215744</td>\n",
       "      <td>0.71</td>\n",
       "      <td>I</td>\n",
       "      <td>SI2</td>\n",
       "      <td>Very Good</td>\n",
       "      <td>1530</td>\n",
       "    </tr>\n",
       "    <tr>\n",
       "      <th>1</th>\n",
       "      <td>10182297</td>\n",
       "      <td>0.71</td>\n",
       "      <td>G</td>\n",
       "      <td>SI2</td>\n",
       "      <td>Very Good</td>\n",
       "      <td>1730</td>\n",
       "    </tr>\n",
       "    <tr>\n",
       "      <th>2</th>\n",
       "      <td>10237740</td>\n",
       "      <td>0.71</td>\n",
       "      <td>I</td>\n",
       "      <td>SI2</td>\n",
       "      <td>Super Ideal</td>\n",
       "      <td>1740</td>\n",
       "    </tr>\n",
       "    <tr>\n",
       "      <th>3</th>\n",
       "      <td>10163703</td>\n",
       "      <td>0.71</td>\n",
       "      <td>I</td>\n",
       "      <td>SI2</td>\n",
       "      <td>Super Ideal</td>\n",
       "      <td>1800</td>\n",
       "    </tr>\n",
       "    <tr>\n",
       "      <th>4</th>\n",
       "      <td>10240138</td>\n",
       "      <td>0.71</td>\n",
       "      <td>E</td>\n",
       "      <td>SI2</td>\n",
       "      <td>Good</td>\n",
       "      <td>1830</td>\n",
       "    </tr>\n",
       "  </tbody>\n",
       "</table>\n",
       "</div>"
      ],
      "text/plain": [
       "   diamond_id  carat color clarity          cut  price\n",
       "0    10215744   0.71     I     SI2    Very Good   1530\n",
       "1    10182297   0.71     G     SI2    Very Good   1730\n",
       "2    10237740   0.71     I     SI2  Super Ideal   1740\n",
       "3    10163703   0.71     I     SI2  Super Ideal   1800\n",
       "4    10240138   0.71     E     SI2         Good   1830"
      ]
     },
     "execution_count": 119,
     "metadata": {},
     "output_type": "execute_result"
    }
   ],
   "source": [
    "diamonds.head()"
   ]
  },
  {
   "cell_type": "code",
   "execution_count": 120,
   "metadata": {},
   "outputs": [
    {
     "data": {
      "text/html": [
       "<div>\n",
       "<style scoped>\n",
       "    .dataframe tbody tr th:only-of-type {\n",
       "        vertical-align: middle;\n",
       "    }\n",
       "\n",
       "    .dataframe tbody tr th {\n",
       "        vertical-align: top;\n",
       "    }\n",
       "\n",
       "    .dataframe thead th {\n",
       "        text-align: right;\n",
       "    }\n",
       "</style>\n",
       "<table border=\"1\" class=\"dataframe\">\n",
       "  <thead>\n",
       "    <tr style=\"text-align: right;\">\n",
       "      <th></th>\n",
       "      <th>diamond_id</th>\n",
       "      <th>carat</th>\n",
       "      <th>color</th>\n",
       "      <th>clarity</th>\n",
       "      <th>cut</th>\n",
       "      <th>price</th>\n",
       "    </tr>\n",
       "  </thead>\n",
       "  <tbody>\n",
       "    <tr>\n",
       "      <th>1065</th>\n",
       "      <td>10205723</td>\n",
       "      <td>0.75</td>\n",
       "      <td>D</td>\n",
       "      <td>IF</td>\n",
       "      <td>Super Ideal</td>\n",
       "      <td>6370</td>\n",
       "    </tr>\n",
       "    <tr>\n",
       "      <th>1066</th>\n",
       "      <td>9919150</td>\n",
       "      <td>0.75</td>\n",
       "      <td>D</td>\n",
       "      <td>IF</td>\n",
       "      <td>Super Ideal</td>\n",
       "      <td>6600</td>\n",
       "    </tr>\n",
       "    <tr>\n",
       "      <th>1067</th>\n",
       "      <td>9974979</td>\n",
       "      <td>0.75</td>\n",
       "      <td>D</td>\n",
       "      <td>IF</td>\n",
       "      <td>Super Ideal</td>\n",
       "      <td>6630</td>\n",
       "    </tr>\n",
       "    <tr>\n",
       "      <th>1068</th>\n",
       "      <td>10010913</td>\n",
       "      <td>0.75</td>\n",
       "      <td>D</td>\n",
       "      <td>IF</td>\n",
       "      <td>Super Ideal</td>\n",
       "      <td>6980</td>\n",
       "    </tr>\n",
       "    <tr>\n",
       "      <th>1069</th>\n",
       "      <td>9873268</td>\n",
       "      <td>0.75</td>\n",
       "      <td>D</td>\n",
       "      <td>FL</td>\n",
       "      <td>Super Ideal</td>\n",
       "      <td>7610</td>\n",
       "    </tr>\n",
       "  </tbody>\n",
       "</table>\n",
       "</div>"
      ],
      "text/plain": [
       "      diamond_id  carat color clarity          cut  price\n",
       "1065    10205723   0.75     D      IF  Super Ideal   6370\n",
       "1066     9919150   0.75     D      IF  Super Ideal   6600\n",
       "1067     9974979   0.75     D      IF  Super Ideal   6630\n",
       "1068    10010913   0.75     D      IF  Super Ideal   6980\n",
       "1069     9873268   0.75     D      FL  Super Ideal   7610"
      ]
     },
     "execution_count": 120,
     "metadata": {},
     "output_type": "execute_result"
    }
   ],
   "source": [
    "diamonds.tail()"
   ]
  },
  {
   "cell_type": "code",
   "execution_count": 121,
   "metadata": {},
   "outputs": [
    {
     "data": {
      "text/plain": [
       "1070"
      ]
     },
     "execution_count": 121,
     "metadata": {},
     "output_type": "execute_result"
    }
   ],
   "source": [
    "len(diamonds['diamond_id'].unique())"
   ]
  },
  {
   "cell_type": "code",
   "execution_count": null,
   "metadata": {},
   "outputs": [],
   "source": []
  },
  {
   "cell_type": "code",
   "execution_count": null,
   "metadata": {},
   "outputs": [],
   "source": []
  },
  {
   "cell_type": "code",
   "execution_count": 123,
   "metadata": {},
   "outputs": [
    {
     "data": {
      "text/plain": [
       "40751"
      ]
     },
     "execution_count": 123,
     "metadata": {},
     "output_type": "execute_result"
    }
   ],
   "source": [
    "len(df)"
   ]
  },
  {
   "cell_type": "code",
   "execution_count": 124,
   "metadata": {},
   "outputs": [],
   "source": [
    "df = pd.concat(\n",
    "    [df, diamonds],\n",
    "    ignore_index=True\n",
    ")"
   ]
  },
  {
   "cell_type": "code",
   "execution_count": 125,
   "metadata": {},
   "outputs": [
    {
     "data": {
      "text/plain": [
       "41821"
      ]
     },
     "execution_count": 125,
     "metadata": {},
     "output_type": "execute_result"
    }
   ],
   "source": [
    "len(df)"
   ]
  },
  {
   "cell_type": "code",
   "execution_count": 126,
   "metadata": {},
   "outputs": [],
   "source": [
    "df.to_csv('diamonds.csv', index=False)"
   ]
  },
  {
   "cell_type": "code",
   "execution_count": null,
   "metadata": {},
   "outputs": [],
   "source": []
  },
  {
   "cell_type": "code",
   "execution_count": null,
   "metadata": {},
   "outputs": [],
   "source": []
  },
  {
   "cell_type": "code",
   "execution_count": null,
   "metadata": {},
   "outputs": [],
   "source": []
  },
  {
   "cell_type": "code",
   "execution_count": 215,
   "metadata": {},
   "outputs": [
    {
     "data": {
      "text/html": [
       "<div>\n",
       "<style scoped>\n",
       "    .dataframe tbody tr th:only-of-type {\n",
       "        vertical-align: middle;\n",
       "    }\n",
       "\n",
       "    .dataframe tbody tr th {\n",
       "        vertical-align: top;\n",
       "    }\n",
       "\n",
       "    .dataframe thead th {\n",
       "        text-align: right;\n",
       "    }\n",
       "</style>\n",
       "<table border=\"1\" class=\"dataframe\">\n",
       "  <thead>\n",
       "    <tr style=\"text-align: right;\">\n",
       "      <th></th>\n",
       "      <th>diamond_id</th>\n",
       "      <th>carat</th>\n",
       "      <th>color</th>\n",
       "      <th>clarity</th>\n",
       "      <th>cut</th>\n",
       "      <th>price</th>\n",
       "    </tr>\n",
       "  </thead>\n",
       "  <tbody>\n",
       "    <tr>\n",
       "      <th>259</th>\n",
       "      <td>9563097</td>\n",
       "      <td>0.25</td>\n",
       "      <td>F</td>\n",
       "      <td>VS1</td>\n",
       "      <td>Super Ideal</td>\n",
       "      <td>620</td>\n",
       "    </tr>\n",
       "    <tr>\n",
       "      <th>261</th>\n",
       "      <td>9563097</td>\n",
       "      <td>0.25</td>\n",
       "      <td>F</td>\n",
       "      <td>VS1</td>\n",
       "      <td>Super Ideal</td>\n",
       "      <td>620</td>\n",
       "    </tr>\n",
       "    <tr>\n",
       "      <th>4270</th>\n",
       "      <td>10160929</td>\n",
       "      <td>0.30</td>\n",
       "      <td>D</td>\n",
       "      <td>VS1</td>\n",
       "      <td>Very Good</td>\n",
       "      <td>780</td>\n",
       "    </tr>\n",
       "    <tr>\n",
       "      <th>4271</th>\n",
       "      <td>10160929</td>\n",
       "      <td>0.30</td>\n",
       "      <td>D</td>\n",
       "      <td>VS1</td>\n",
       "      <td>Very Good</td>\n",
       "      <td>780</td>\n",
       "    </tr>\n",
       "    <tr>\n",
       "      <th>17914</th>\n",
       "      <td>10205003</td>\n",
       "      <td>0.37</td>\n",
       "      <td>D</td>\n",
       "      <td>VS1</td>\n",
       "      <td>Ideal</td>\n",
       "      <td>1110</td>\n",
       "    </tr>\n",
       "    <tr>\n",
       "      <th>...</th>\n",
       "      <td>...</td>\n",
       "      <td>...</td>\n",
       "      <td>...</td>\n",
       "      <td>...</td>\n",
       "      <td>...</td>\n",
       "      <td>...</td>\n",
       "    </tr>\n",
       "    <tr>\n",
       "      <th>58354</th>\n",
       "      <td>10238504</td>\n",
       "      <td>0.43</td>\n",
       "      <td>J</td>\n",
       "      <td>VVS1</td>\n",
       "      <td>Super Ideal</td>\n",
       "      <td>990</td>\n",
       "    </tr>\n",
       "    <tr>\n",
       "      <th>58355</th>\n",
       "      <td>9588287</td>\n",
       "      <td>0.43</td>\n",
       "      <td>E</td>\n",
       "      <td>SI1</td>\n",
       "      <td>Very Good</td>\n",
       "      <td>1000</td>\n",
       "    </tr>\n",
       "    <tr>\n",
       "      <th>58356</th>\n",
       "      <td>9966456</td>\n",
       "      <td>0.43</td>\n",
       "      <td>D</td>\n",
       "      <td>SI2</td>\n",
       "      <td>Super Ideal</td>\n",
       "      <td>1010</td>\n",
       "    </tr>\n",
       "    <tr>\n",
       "      <th>58357</th>\n",
       "      <td>10186043</td>\n",
       "      <td>0.43</td>\n",
       "      <td>J</td>\n",
       "      <td>VVS1</td>\n",
       "      <td>Super Ideal</td>\n",
       "      <td>1010</td>\n",
       "    </tr>\n",
       "    <tr>\n",
       "      <th>58358</th>\n",
       "      <td>9977697</td>\n",
       "      <td>0.43</td>\n",
       "      <td>J</td>\n",
       "      <td>VVS2</td>\n",
       "      <td>Super Ideal</td>\n",
       "      <td>1010</td>\n",
       "    </tr>\n",
       "  </tbody>\n",
       "</table>\n",
       "<p>34286 rows × 6 columns</p>\n",
       "</div>"
      ],
      "text/plain": [
       "       diamond_id  carat color clarity          cut  price\n",
       "259       9563097   0.25     F     VS1  Super Ideal    620\n",
       "261       9563097   0.25     F     VS1  Super Ideal    620\n",
       "4270     10160929   0.30     D     VS1    Very Good    780\n",
       "4271     10160929   0.30     D     VS1    Very Good    780\n",
       "17914    10205003   0.37     D     VS1        Ideal   1110\n",
       "...           ...    ...   ...     ...          ...    ...\n",
       "58354    10238504   0.43     J    VVS1  Super Ideal    990\n",
       "58355     9588287   0.43     E     SI1    Very Good   1000\n",
       "58356     9966456   0.43     D     SI2  Super Ideal   1010\n",
       "58357    10186043   0.43     J    VVS1  Super Ideal   1010\n",
       "58358     9977697   0.43     J    VVS2  Super Ideal   1010\n",
       "\n",
       "[34286 rows x 6 columns]"
      ]
     },
     "execution_count": 215,
     "metadata": {},
     "output_type": "execute_result"
    }
   ],
   "source": [
    "# diamonds.duplicated(subset='upc')\n",
    "diamonds[diamonds.duplicated(['diamond_id'], keep=False)]"
   ]
  },
  {
   "cell_type": "code",
   "execution_count": 316,
   "metadata": {},
   "outputs": [
    {
     "name": "stdout",
     "output_type": "stream",
     "text": [
      "<class 'pandas.core.frame.DataFrame'>\n",
      "RangeIndex: 10458 entries, 0 to 10457\n",
      "Data columns (total 6 columns):\n",
      " #   Column      Non-Null Count  Dtype  \n",
      "---  ------      --------------  -----  \n",
      " 0   diamond_id  10458 non-null  int64  \n",
      " 1   carat       10458 non-null  float64\n",
      " 2   color       10458 non-null  object \n",
      " 3   clarity     10458 non-null  object \n",
      " 4   cut         10458 non-null  object \n",
      " 5   price       10458 non-null  int64  \n",
      "dtypes: float64(1), int64(2), object(3)\n",
      "memory usage: 490.3+ KB\n"
     ]
    }
   ],
   "source": [
    "df2.info()"
   ]
  },
  {
   "cell_type": "code",
   "execution_count": 199,
   "metadata": {},
   "outputs": [
    {
     "data": {
      "text/html": [
       "<div>\n",
       "<style scoped>\n",
       "    .dataframe tbody tr th:only-of-type {\n",
       "        vertical-align: middle;\n",
       "    }\n",
       "\n",
       "    .dataframe tbody tr th {\n",
       "        vertical-align: top;\n",
       "    }\n",
       "\n",
       "    .dataframe thead th {\n",
       "        text-align: right;\n",
       "    }\n",
       "</style>\n",
       "<table border=\"1\" class=\"dataframe\">\n",
       "  <thead>\n",
       "    <tr style=\"text-align: right;\">\n",
       "      <th></th>\n",
       "      <th>diamond_id</th>\n",
       "      <th>carat</th>\n",
       "      <th>color</th>\n",
       "      <th>clarity</th>\n",
       "      <th>cut</th>\n",
       "      <th>price</th>\n",
       "    </tr>\n",
       "  </thead>\n",
       "  <tbody>\n",
       "    <tr>\n",
       "      <th>25984</th>\n",
       "      <td>10191979</td>\n",
       "      <td>0.49</td>\n",
       "      <td>F</td>\n",
       "      <td>VS1</td>\n",
       "      <td>Very Good</td>\n",
       "      <td>1940</td>\n",
       "    </tr>\n",
       "    <tr>\n",
       "      <th>25985</th>\n",
       "      <td>10223274</td>\n",
       "      <td>0.49</td>\n",
       "      <td>E</td>\n",
       "      <td>VVS1</td>\n",
       "      <td>Super Ideal</td>\n",
       "      <td>2040</td>\n",
       "    </tr>\n",
       "    <tr>\n",
       "      <th>25986</th>\n",
       "      <td>10099446</td>\n",
       "      <td>0.49</td>\n",
       "      <td>D</td>\n",
       "      <td>VS2</td>\n",
       "      <td>Super Ideal</td>\n",
       "      <td>2170</td>\n",
       "    </tr>\n",
       "    <tr>\n",
       "      <th>25987</th>\n",
       "      <td>9598921</td>\n",
       "      <td>0.49</td>\n",
       "      <td>D</td>\n",
       "      <td>VVS1</td>\n",
       "      <td>Super Ideal</td>\n",
       "      <td>2230</td>\n",
       "    </tr>\n",
       "    <tr>\n",
       "      <th>25988</th>\n",
       "      <td>9951008</td>\n",
       "      <td>0.49</td>\n",
       "      <td>D</td>\n",
       "      <td>IF</td>\n",
       "      <td>Super Ideal</td>\n",
       "      <td>2780</td>\n",
       "    </tr>\n",
       "  </tbody>\n",
       "</table>\n",
       "</div>"
      ],
      "text/plain": [
       "       diamond_id  carat color clarity          cut  price\n",
       "25984    10191979   0.49     F     VS1    Very Good   1940\n",
       "25985    10223274   0.49     E    VVS1  Super Ideal   2040\n",
       "25986    10099446   0.49     D     VS2  Super Ideal   2170\n",
       "25987     9598921   0.49     D    VVS1  Super Ideal   2230\n",
       "25988     9951008   0.49     D      IF  Super Ideal   2780"
      ]
     },
     "execution_count": 199,
     "metadata": {},
     "output_type": "execute_result"
    }
   ],
   "source": [
    "df.tail()"
   ]
  },
  {
   "cell_type": "code",
   "execution_count": 321,
   "metadata": {},
   "outputs": [],
   "source": [
    "df3 = pd.concat(\n",
    "    [df, df2],\n",
    "    ignore_index=True\n",
    ")"
   ]
  },
  {
   "cell_type": "code",
   "execution_count": 322,
   "metadata": {},
   "outputs": [
    {
     "name": "stdout",
     "output_type": "stream",
     "text": [
      "<class 'pandas.core.frame.DataFrame'>\n",
      "RangeIndex: 36447 entries, 0 to 36446\n",
      "Data columns (total 6 columns):\n",
      " #   Column      Non-Null Count  Dtype  \n",
      "---  ------      --------------  -----  \n",
      " 0   diamond_id  36447 non-null  int64  \n",
      " 1   carat       36447 non-null  float64\n",
      " 2   color       36447 non-null  object \n",
      " 3   clarity     36447 non-null  object \n",
      " 4   cut         36447 non-null  object \n",
      " 5   price       36447 non-null  int64  \n",
      "dtypes: float64(1), int64(2), object(3)\n",
      "memory usage: 1.7+ MB\n"
     ]
    }
   ],
   "source": [
    "df3.info()"
   ]
  },
  {
   "cell_type": "code",
   "execution_count": 324,
   "metadata": {},
   "outputs": [
    {
     "data": {
      "text/html": [
       "<div>\n",
       "<style scoped>\n",
       "    .dataframe tbody tr th:only-of-type {\n",
       "        vertical-align: middle;\n",
       "    }\n",
       "\n",
       "    .dataframe tbody tr th {\n",
       "        vertical-align: top;\n",
       "    }\n",
       "\n",
       "    .dataframe thead th {\n",
       "        text-align: right;\n",
       "    }\n",
       "</style>\n",
       "<table border=\"1\" class=\"dataframe\">\n",
       "  <thead>\n",
       "    <tr style=\"text-align: right;\">\n",
       "      <th></th>\n",
       "      <th>diamond_id</th>\n",
       "      <th>carat</th>\n",
       "      <th>color</th>\n",
       "      <th>clarity</th>\n",
       "      <th>cut</th>\n",
       "      <th>price</th>\n",
       "    </tr>\n",
       "  </thead>\n",
       "  <tbody>\n",
       "    <tr>\n",
       "      <th>36442</th>\n",
       "      <td>10236892</td>\n",
       "      <td>0.58</td>\n",
       "      <td>E</td>\n",
       "      <td>VVS1</td>\n",
       "      <td>Super Ideal</td>\n",
       "      <td>3850</td>\n",
       "    </tr>\n",
       "    <tr>\n",
       "      <th>36443</th>\n",
       "      <td>9922838</td>\n",
       "      <td>0.58</td>\n",
       "      <td>D</td>\n",
       "      <td>IF</td>\n",
       "      <td>Super Ideal</td>\n",
       "      <td>3980</td>\n",
       "    </tr>\n",
       "    <tr>\n",
       "      <th>36444</th>\n",
       "      <td>9965270</td>\n",
       "      <td>0.58</td>\n",
       "      <td>D</td>\n",
       "      <td>IF</td>\n",
       "      <td>Super Ideal</td>\n",
       "      <td>4310</td>\n",
       "    </tr>\n",
       "    <tr>\n",
       "      <th>36445</th>\n",
       "      <td>10209495</td>\n",
       "      <td>0.58</td>\n",
       "      <td>D</td>\n",
       "      <td>FL</td>\n",
       "      <td>Super Ideal</td>\n",
       "      <td>4410</td>\n",
       "    </tr>\n",
       "    <tr>\n",
       "      <th>36446</th>\n",
       "      <td>10020378</td>\n",
       "      <td>0.58</td>\n",
       "      <td>D</td>\n",
       "      <td>FL</td>\n",
       "      <td>Super Ideal</td>\n",
       "      <td>5030</td>\n",
       "    </tr>\n",
       "  </tbody>\n",
       "</table>\n",
       "</div>"
      ],
      "text/plain": [
       "       diamond_id  carat color clarity          cut  price\n",
       "36442    10236892   0.58     E    VVS1  Super Ideal   3850\n",
       "36443     9922838   0.58     D      IF  Super Ideal   3980\n",
       "36444     9965270   0.58     D      IF  Super Ideal   4310\n",
       "36445    10209495   0.58     D      FL  Super Ideal   4410\n",
       "36446    10020378   0.58     D      FL  Super Ideal   5030"
      ]
     },
     "execution_count": 324,
     "metadata": {},
     "output_type": "execute_result"
    }
   ],
   "source": [
    "df3.tail()"
   ]
  },
  {
   "cell_type": "code",
   "execution_count": null,
   "metadata": {},
   "outputs": [],
   "source": []
  }
 ],
 "metadata": {
  "kernelspec": {
   "display_name": "Python 3",
   "language": "python",
   "name": "python3"
  },
  "language_info": {
   "codemirror_mode": {
    "name": "ipython",
    "version": 3
   },
   "file_extension": ".py",
   "mimetype": "text/x-python",
   "name": "python",
   "nbconvert_exporter": "python",
   "pygments_lexer": "ipython3",
   "version": "3.7.3"
  },
  "toc": {
   "base_numbering": 1,
   "nav_menu": {},
   "number_sections": true,
   "sideBar": false,
   "skip_h1_title": false,
   "title_cell": "Table of Contents",
   "title_sidebar": "Contents",
   "toc_cell": false,
   "toc_position": {},
   "toc_section_display": true,
   "toc_window_display": false
  }
 },
 "nbformat": 4,
 "nbformat_minor": 4
}
